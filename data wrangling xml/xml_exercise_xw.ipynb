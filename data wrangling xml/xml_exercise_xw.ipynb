{
 "cells": [
  {
   "cell_type": "markdown",
   "metadata": {},
   "source": [
    "# XML example and exercise\n",
    "****\n",
    "+ study examples of accessing nodes in XML tree structure  \n",
    "+ work on exercise to be completed and submitted\n",
    "****\n",
    "+ reference: https://docs.python.org/2.7/library/xml.etree.elementtree.html\n",
    "+ data source: http://www.dbis.informatik.uni-goettingen.de/Mondial\n",
    "****"
   ]
  },
  {
   "cell_type": "code",
   "execution_count": 42,
   "metadata": {
    "collapsed": true
   },
   "outputs": [],
   "source": [
    "from xml.etree import ElementTree as ET"
   ]
  },
  {
   "cell_type": "markdown",
   "metadata": {},
   "source": [
    "## XML example\n",
    "\n",
    "+ for details about tree traversal and iterators, see https://docs.python.org/2.7/library/xml.etree.elementtree.html"
   ]
  },
  {
   "cell_type": "code",
   "execution_count": 43,
   "metadata": {
    "collapsed": true
   },
   "outputs": [],
   "source": [
    "document_tree = ET.parse( './data/mondial_database_less.xml' )"
   ]
  },
  {
   "cell_type": "code",
   "execution_count": 44,
   "metadata": {
    "collapsed": false
   },
   "outputs": [
    {
     "name": "stdout",
     "output_type": "stream",
     "text": [
      "Albania\n",
      "Greece\n",
      "Macedonia\n",
      "Serbia\n",
      "Montenegro\n",
      "Kosovo\n",
      "Andorra\n"
     ]
    }
   ],
   "source": [
    "# print names of all countries\n",
    "for child in document_tree.getroot():\n",
    "    print (child.find('name').text)"
   ]
  },
  {
   "cell_type": "code",
   "execution_count": 45,
   "metadata": {
    "collapsed": false
   },
   "outputs": [
    {
     "name": "stdout",
     "output_type": "stream",
     "text": [
      "* Albania:\n",
      "Tirana, Shkodër, Durrës, Vlorë, Elbasan, Korçë\n",
      "* Greece:\n",
      "Komotini, Kavala, Athina, Peiraias, Peristeri, Acharnes, Patra, Kozani, Kerkyra, Ioannina, Thessaloniki, Iraklio, Chania, Ermoupoli, Rhodes, Tripoli, Lamia, Chalkida, Larissa, Volos, Mytilini, Karyes\n",
      "* Macedonia:\n",
      "Skopje, Kumanovo\n",
      "* Serbia:\n",
      "Beograd, Novi Sad, Niš\n",
      "* Montenegro:\n",
      "Podgorica\n",
      "* Kosovo:\n",
      "Prishtine\n",
      "* Andorra:\n",
      "Andorra la Vella\n"
     ]
    }
   ],
   "source": [
    "# print names of all countries and their cities\n",
    "for element in document_tree.iterfind('country'):\n",
    "    print ('* ' + element.find('name').text + ':',)\n",
    "    capitals_string = ''\n",
    "    for subelement in element.getiterator('city'):\n",
    "        capitals_string += subelement.find('name').text + ', '\n",
    "    print (capitals_string[:-2])"
   ]
  },
  {
   "cell_type": "markdown",
   "metadata": {},
   "source": [
    "****\n",
    "## XML exercise\n",
    "\n",
    "Using data in 'data/mondial_database.xml', the examples above, and refering to https://docs.python.org/2.7/library/xml.etree.elementtree.html, find\n",
    "\n",
    "1. 10 countries with the lowest infant mortality rates\n",
    "2. 10 cities with the largest population\n",
    "3. 10 ethnic groups with the largest overall populations (sum of best/latest estimates over all countries)\n",
    "4. name and country of a) longest river, b) largest lake and c) airport at highest elevation"
   ]
  },
  {
   "cell_type": "code",
   "execution_count": 46,
   "metadata": {
    "collapsed": false
   },
   "outputs": [
    {
     "data": {
      "text/html": [
       "<div>\n",
       "<table border=\"1\" class=\"dataframe\">\n",
       "  <thead>\n",
       "    <tr style=\"text-align: right;\">\n",
       "      <th></th>\n",
       "      <th>country</th>\n",
       "      <th>infant_mortality_rate</th>\n",
       "    </tr>\n",
       "  </thead>\n",
       "  <tbody>\n",
       "    <tr>\n",
       "      <th>38</th>\n",
       "      <td>Monaco</td>\n",
       "      <td>1.81</td>\n",
       "    </tr>\n",
       "    <tr>\n",
       "      <th>30</th>\n",
       "      <td>Romania</td>\n",
       "      <td>10.16</td>\n",
       "    </tr>\n",
       "    <tr>\n",
       "      <th>153</th>\n",
       "      <td>Fiji</td>\n",
       "      <td>10.2</td>\n",
       "    </tr>\n",
       "    <tr>\n",
       "      <th>69</th>\n",
       "      <td>Brunei</td>\n",
       "      <td>10.48</td>\n",
       "    </tr>\n",
       "    <tr>\n",
       "      <th>132</th>\n",
       "      <td>Grenada</td>\n",
       "      <td>10.5</td>\n",
       "    </tr>\n",
       "    <tr>\n",
       "      <th>237</th>\n",
       "      <td>Mauritius</td>\n",
       "      <td>10.59</td>\n",
       "    </tr>\n",
       "    <tr>\n",
       "      <th>124</th>\n",
       "      <td>Panama</td>\n",
       "      <td>10.7</td>\n",
       "    </tr>\n",
       "    <tr>\n",
       "      <th>243</th>\n",
       "      <td>Seychelles</td>\n",
       "      <td>10.77</td>\n",
       "    </tr>\n",
       "    <tr>\n",
       "      <th>102</th>\n",
       "      <td>United Arab Emirates</td>\n",
       "      <td>10.92</td>\n",
       "    </tr>\n",
       "    <tr>\n",
       "      <th>113</th>\n",
       "      <td>Barbados</td>\n",
       "      <td>10.93</td>\n",
       "    </tr>\n",
       "  </tbody>\n",
       "</table>\n",
       "</div>"
      ],
      "text/plain": [
       "                  country infant_mortality_rate\n",
       "38                 Monaco                  1.81\n",
       "30                Romania                 10.16\n",
       "153                  Fiji                  10.2\n",
       "69                 Brunei                 10.48\n",
       "132               Grenada                  10.5\n",
       "237             Mauritius                 10.59\n",
       "124                Panama                  10.7\n",
       "243            Seychelles                 10.77\n",
       "102  United Arab Emirates                 10.92\n",
       "113              Barbados                 10.93"
      ]
     },
     "execution_count": 46,
     "metadata": {},
     "output_type": "execute_result"
    }
   ],
   "source": [
    "# 1. 10 countries with the lowest infant mortality rates\n",
    "\n",
    "import pandas as pd\n",
    "import numpy as np\n",
    "\n",
    "# read the xml file\n",
    "document = ET.parse( './data/mondial_database.xml' )\n",
    "\n",
    "# create empty lists to store country names and infant mortaility rates\n",
    "country_list = []\n",
    "infant_mortality_list = []\n",
    "\n",
    "# fill out lists for country names and infant mortaility rates\n",
    "# where infant mortaility rate is missing, fill out NA\n",
    "for element in document.iterfind('country'):\n",
    "    country_list.append(element.find('name').text)\n",
    "    try: \n",
    "        infant_mortality_list.append(element.find('infant_mortality').text)\n",
    "    except:\n",
    "        infant_mortality_list.append(np.nan)\n",
    "        \n",
    "# convert lists to dataframe and get the 10 countries with the lowest infant mortality rates\n",
    "df = pd.DataFrame({'country':country_list,'infant_mortality_rate':infant_mortality_list}).dropna()\n",
    "df.sort_values('infant_mortality_rate').head(10)"
   ]
  },
  {
   "cell_type": "code",
   "execution_count": 47,
   "metadata": {
    "collapsed": false
   },
   "outputs": [
    {
     "data": {
      "text/html": [
       "<div>\n",
       "<table border=\"1\" class=\"dataframe\">\n",
       "  <thead>\n",
       "    <tr style=\"text-align: right;\">\n",
       "      <th></th>\n",
       "      <th>city</th>\n",
       "      <th>population</th>\n",
       "    </tr>\n",
       "  </thead>\n",
       "  <tbody>\n",
       "    <tr>\n",
       "      <th>1341</th>\n",
       "      <td>Shanghai</td>\n",
       "      <td>22315474</td>\n",
       "    </tr>\n",
       "    <tr>\n",
       "      <th>771</th>\n",
       "      <td>Istanbul</td>\n",
       "      <td>13710512</td>\n",
       "    </tr>\n",
       "    <tr>\n",
       "      <th>1527</th>\n",
       "      <td>Mumbai</td>\n",
       "      <td>12442373</td>\n",
       "    </tr>\n",
       "    <tr>\n",
       "      <th>479</th>\n",
       "      <td>Moskva</td>\n",
       "      <td>11979529</td>\n",
       "    </tr>\n",
       "    <tr>\n",
       "      <th>1340</th>\n",
       "      <td>Beijing</td>\n",
       "      <td>11716620</td>\n",
       "    </tr>\n",
       "    <tr>\n",
       "      <th>2810</th>\n",
       "      <td>São Paulo</td>\n",
       "      <td>11152344</td>\n",
       "    </tr>\n",
       "    <tr>\n",
       "      <th>1342</th>\n",
       "      <td>Tianjin</td>\n",
       "      <td>11090314</td>\n",
       "    </tr>\n",
       "    <tr>\n",
       "      <th>1064</th>\n",
       "      <td>Guangzhou</td>\n",
       "      <td>11071424</td>\n",
       "    </tr>\n",
       "    <tr>\n",
       "      <th>1582</th>\n",
       "      <td>Delhi</td>\n",
       "      <td>11034555</td>\n",
       "    </tr>\n",
       "    <tr>\n",
       "      <th>1067</th>\n",
       "      <td>Shenzhen</td>\n",
       "      <td>10358381</td>\n",
       "    </tr>\n",
       "  </tbody>\n",
       "</table>\n",
       "</div>"
      ],
      "text/plain": [
       "           city  population\n",
       "1341   Shanghai    22315474\n",
       "771    Istanbul    13710512\n",
       "1527     Mumbai    12442373\n",
       "479      Moskva    11979529\n",
       "1340    Beijing    11716620\n",
       "2810  São Paulo    11152344\n",
       "1342    Tianjin    11090314\n",
       "1064  Guangzhou    11071424\n",
       "1582      Delhi    11034555\n",
       "1067   Shenzhen    10358381"
      ]
     },
     "execution_count": 47,
     "metadata": {},
     "output_type": "execute_result"
    }
   ],
   "source": [
    "# 2. 10 cities with the largest population\n",
    "\n",
    "# create empty lists to store city names and population\n",
    "city_list = []\n",
    "population_list = []\n",
    "\n",
    "# fill out lists for country names and infant mortaility rates\n",
    "# where there are multiple population values for each city, use the latese one\n",
    "# where population is missing, fill out NA\n",
    "for element in document.iterfind('country'):\n",
    "    for subelement in element.getiterator('city'):\n",
    "        city_list.append(subelement.find('name').text)\n",
    "        all_population = [pop.text for pop in subelement.findall('population')]\n",
    "        if all_population:\n",
    "            population_list.append(all_population[-1])\n",
    "        else:\n",
    "            population_list.append(np.nan)\n",
    "            \n",
    "# convert lists to dataframe\n",
    "df = pd.DataFrame({'city':city_list,'population':population_list}).dropna()\n",
    "\n",
    "# change data type of population to float\n",
    "df['population'] = df['population'].astype(int)\n",
    "\n",
    "# get the 10 cities with the largest population\n",
    "df.sort_values('population',ascending=False).head(10)"
   ]
  },
  {
   "cell_type": "code",
   "execution_count": 48,
   "metadata": {
    "collapsed": false
   },
   "outputs": [
    {
     "data": {
      "text/plain": [
       "ethnic_group\n",
       "Han Chinese    1245058800\n",
       "Indo-Aryan      871815583\n",
       "European        494872201\n",
       "African         318325104\n",
       "Dravidian       302713744\n",
       "Mestizo         157734349\n",
       "Bengali         146776916\n",
       "Russian         131856989\n",
       "Japanese        126534212\n",
       "Malay           121993548\n",
       "Name: population, dtype: int32"
      ]
     },
     "execution_count": 48,
     "metadata": {},
     "output_type": "execute_result"
    }
   ],
   "source": [
    "# 3. 10 ethnic groups with the largest overall populations (sum of best/latest estimates over all countries)\n",
    "\n",
    "# create empty lists to store names, base population and percentage for ethnic groups\n",
    "eg_name_list = []\n",
    "eg_base_list = []\n",
    "eg_pct_list = []\n",
    "\n",
    "# for each country, get the folling data from the xml:\n",
    "# the latest population estimate\n",
    "# name of each ethnic group\n",
    "# percentage of each ethnic group\n",
    "for element in document.iterfind('country'):\n",
    "    eg = [eg.text for eg in element.findall('ethnicgroup')]\n",
    "    pct = [eg.attrib['percentage'] for eg in element.findall('ethnicgroup')]\n",
    "    pop = [pop.text for pop in element.findall('population')]\n",
    "    if len(eg) * len(pop) == 0:\n",
    "        continue\n",
    "    eg_name_list.extend(eg)\n",
    "    eg_pct_list.extend(pct)\n",
    "    eg_base_list.extend([pop[-1] for i in range(len(eg))])\n",
    "\n",
    "# create a dataframe from the lists and calculate population for each ethnic group\n",
    "df = pd.DataFrame({'ethnic_group':eg_name_list,'base':eg_base_list,'pct':eg_pct_list})\n",
    "df['population'] = (df['base'].astype(float) * df['pct'].astype(float) / 100).astype(int)\n",
    "\n",
    "# remove unnecessary columns\n",
    "df = df.drop(['base','pct'],1)\n",
    "\n",
    "# get the 10 ethnic groups with the largest overall populations\n",
    "df.groupby('ethnic_group').sum()['population'].sort_values(ascending=False).head(10)"
   ]
  },
  {
   "cell_type": "code",
   "execution_count": 49,
   "metadata": {
    "collapsed": false
   },
   "outputs": [
    {
     "name": "stdout",
     "output_type": "stream",
     "text": [
      "The name of the longest river is Amazonas. It is in ['Colombia', 'Brazil', 'Peru']\n"
     ]
    }
   ],
   "source": [
    "#4a. name and country of longest river\n",
    "\n",
    "# create a dictionary to store the relationship bwtween country code and country name\n",
    "car_code_dict = {}\n",
    "for child in document.getroot():\n",
    "    try:\n",
    "        car_code_dict[child.attrib['car_code']] = child.find('name').text\n",
    "    except:\n",
    "        continue\n",
    "\n",
    "# create lists to store river names, river lengths and country codes of rivers\n",
    "r_name_list = []\n",
    "r_len_list = []\n",
    "r_ccode_list = []\n",
    "for element in document.iterfind('river'):\n",
    "    try:\n",
    "        r_len_list.append(float(element.find('length').text))\n",
    "        r_name_list.append(element.find('name').text)\n",
    "        r_ccode_list.append(element.attrib['country'])\n",
    "    except:\n",
    "        continue\n",
    "\n",
    "# convert lists to a dataframe and find the name and country of longest river\n",
    "df = pd.DataFrame({'river_name':r_name_list,'river_length':r_len_list,'river_ccode':r_ccode_list})\n",
    "top1 = df.sort_values('river_length',ascending=False).iloc[0]\n",
    "name = top1.river_name\n",
    "country = [car_code_dict[code] for code in top1.river_ccode.split()]\n",
    "\n",
    "print ('The name of the longest river is {0}. It is in {1}'.format(name,country))"
   ]
  },
  {
   "cell_type": "code",
   "execution_count": 50,
   "metadata": {
    "collapsed": false
   },
   "outputs": [
    {
     "name": "stdout",
     "output_type": "stream",
     "text": [
      "The name of the largest river is Caspian Sea. It is in ['Russia', 'Azerbaijan', 'Kazakhstan', 'Iran', 'Turkmenistan']\n"
     ]
    }
   ],
   "source": [
    "# 4b) name and country of largest lake\n",
    "\n",
    "# create lists to store lake names, lake areas and country codes of lakes\n",
    "l_name_list = []\n",
    "l_area_list = []\n",
    "l_ccode_list = []\n",
    "for element in document.iterfind('lake'):\n",
    "    try:\n",
    "        l_area_list.append(float(element.find('area').text))\n",
    "        l_name_list.append(element.find('name').text)\n",
    "        l_ccode_list.append(element.attrib['country'])\n",
    "    except:\n",
    "        continue\n",
    "\n",
    "# convert lists to a dataframe and find the name and country of largest lake\n",
    "df = pd.DataFrame({'lake_name':l_name_list,'lake_area':l_area_list,'lake_ccode':l_ccode_list})\n",
    "top1 = df.sort_values('lake_area',ascending=False).iloc[0]\n",
    "name = top1.lake_name\n",
    "country = [car_code_dict[code] for code in top1.lake_ccode.split()]\n",
    "\n",
    "print ('The name of the largest river is {0}. It is in {1}'.format(name,country))\n"
   ]
  },
  {
   "cell_type": "code",
   "execution_count": 51,
   "metadata": {
    "collapsed": false
   },
   "outputs": [
    {
     "name": "stdout",
     "output_type": "stream",
     "text": [
      "The name of the airport at highest elevation is El Alto Intl. It is in ['Bolivia']\n"
     ]
    }
   ],
   "source": [
    "# 4c) name and country of airport at highest elevation\n",
    "\n",
    "# create lists to store airports names, airport elevations and country codes of airports\n",
    "a_name_list = []\n",
    "a_elevation_list = []\n",
    "a_ccode_list = []\n",
    "for element in document.iterfind('airport'):\n",
    "    try:\n",
    "        a_elevation_list.append(float(element.find('elevation').text))\n",
    "        a_name_list.append(element.find('name').text)\n",
    "        a_ccode_list.append(element.attrib['country'])\n",
    "    except:\n",
    "        continue\n",
    "\n",
    "# convert lists to a dataframe and find the name and country of airport at highest elevation\n",
    "df = pd.DataFrame({'airport_name':a_name_list,'airport_elevation':a_elevation_list,'airport_ccode':a_ccode_list})\n",
    "top1 = df.sort_values('airport_elevation',ascending=False).iloc[0]\n",
    "name = top1.airport_name\n",
    "country = [car_code_dict[code] for code in top1.airport_ccode.split()]\n",
    "\n",
    "print ('The name of the airport at highest elevation is {0}. It is in {1}'.format(name,country))\n"
   ]
  },
  {
   "cell_type": "code",
   "execution_count": null,
   "metadata": {
    "collapsed": true
   },
   "outputs": [],
   "source": []
  },
  {
   "cell_type": "code",
   "execution_count": null,
   "metadata": {
    "collapsed": true
   },
   "outputs": [],
   "source": []
  },
  {
   "cell_type": "code",
   "execution_count": null,
   "metadata": {
    "collapsed": true
   },
   "outputs": [],
   "source": []
  }
 ],
 "metadata": {
  "kernelspec": {
   "display_name": "Python 3",
   "language": "python",
   "name": "python3"
  },
  "language_info": {
   "codemirror_mode": {
    "name": "ipython",
    "version": 3
   },
   "file_extension": ".py",
   "mimetype": "text/x-python",
   "name": "python",
   "nbconvert_exporter": "python",
   "pygments_lexer": "ipython3",
   "version": "3.6.0"
  }
 },
 "nbformat": 4,
 "nbformat_minor": 0
}
